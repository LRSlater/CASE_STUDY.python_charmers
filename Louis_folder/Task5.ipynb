{
 "cells": [
  {
   "cell_type": "code",
   "execution_count": 1,
   "metadata": {},
   "outputs": [],
   "source": [
    "\n",
    "import pandas as pd \n",
    "import numpy as np \n",
    "import matplotlib.pyplot as plt \n",
    "import seaborn as sns\n",
    "import sqlite3\n",
    "\n",
    "\n",
    "\n",
    "\n",
    "salary_data = pd.read_csv('/Users/louisperruchon/documents/project_ds311/data/salary_data_states (2).csv', sep=\";\")\n",
    "\n",
    "                          \n",
    "                          \n",
    "                         "
   ]
  },
  {
   "cell_type": "code",
   "execution_count": 3,
   "metadata": {},
   "outputs": [
    {
     "data": {
      "text/html": [
       "<div>\n",
       "<style scoped>\n",
       "    .dataframe tbody tr th:only-of-type {\n",
       "        vertical-align: middle;\n",
       "    }\n",
       "\n",
       "    .dataframe tbody tr th {\n",
       "        vertical-align: top;\n",
       "    }\n",
       "\n",
       "    .dataframe thead th {\n",
       "        text-align: right;\n",
       "    }\n",
       "</style>\n",
       "<table border=\"1\" class=\"dataframe\">\n",
       "  <thead>\n",
       "    <tr style=\"text-align: right;\">\n",
       "      <th></th>\n",
       "      <th>CASE_NUMBER</th>\n",
       "      <th>CASE_STATUS</th>\n",
       "      <th>CASE_RECEIVED_DATE</th>\n",
       "      <th>DECISION_DATE</th>\n",
       "      <th>EMPLOYER_NAME</th>\n",
       "      <th>PREVAILING_WAGE_SUBMITTED</th>\n",
       "      <th>PREVAILING_WAGE_SUBMITTED_UNIT</th>\n",
       "      <th>PAID_WAGE_SUBMITTED</th>\n",
       "      <th>PAID_WAGE_SUBMITTED_UNIT</th>\n",
       "      <th>JOB_TITLE</th>\n",
       "      <th>...</th>\n",
       "      <th>PREVAILING_WAGE_SOC_TITLE</th>\n",
       "      <th>WORK_STATE</th>\n",
       "      <th>WORK_STATE_ABBREVIATION</th>\n",
       "      <th>WORK_POSTAL_CODE</th>\n",
       "      <th>FULL_TIME_POSITION_Y_N</th>\n",
       "      <th>VISA_CLASS</th>\n",
       "      <th>PREVAILING_WAGE_PER_YEAR</th>\n",
       "      <th>PAID_WAGE_PER_YEAR</th>\n",
       "      <th>JOB_TITLE_SUBGROUP</th>\n",
       "      <th>order</th>\n",
       "    </tr>\n",
       "  </thead>\n",
       "  <tbody>\n",
       "    <tr>\n",
       "      <th>0</th>\n",
       "      <td>I-200-14073-248840</td>\n",
       "      <td>denied</td>\n",
       "      <td>3/14/2014</td>\n",
       "      <td>3/21/2014</td>\n",
       "      <td>ADVANCED TECHNOLOGY GROUP USA, INC.</td>\n",
       "      <td>6217100</td>\n",
       "      <td>year</td>\n",
       "      <td>62171</td>\n",
       "      <td>year</td>\n",
       "      <td>SOFTWARE ENGINEER</td>\n",
       "      <td>...</td>\n",
       "      <td>Software Developers, Applications</td>\n",
       "      <td>Illinois</td>\n",
       "      <td>IL</td>\n",
       "      <td>NaN</td>\n",
       "      <td>y</td>\n",
       "      <td>H-1B</td>\n",
       "      <td>NaN</td>\n",
       "      <td>62171</td>\n",
       "      <td>software engineer</td>\n",
       "      <td>1</td>\n",
       "    </tr>\n",
       "    <tr>\n",
       "      <th>1</th>\n",
       "      <td>A-15061-55212</td>\n",
       "      <td>denied</td>\n",
       "      <td>3/19/2015</td>\n",
       "      <td>3/19/2015</td>\n",
       "      <td>SAN FRANCISCO STATE UNIVERSITY</td>\n",
       "      <td>5067600</td>\n",
       "      <td>year</td>\n",
       "      <td>91440</td>\n",
       "      <td>year</td>\n",
       "      <td>Assistant Professor of Marketing</td>\n",
       "      <td>...</td>\n",
       "      <td>Business Teachers, Postsecondary</td>\n",
       "      <td>California</td>\n",
       "      <td>CA</td>\n",
       "      <td>94132.0</td>\n",
       "      <td>NaN</td>\n",
       "      <td>greencard</td>\n",
       "      <td>NaN</td>\n",
       "      <td>91440</td>\n",
       "      <td>assistant professor</td>\n",
       "      <td>2</td>\n",
       "    </tr>\n",
       "    <tr>\n",
       "      <th>2</th>\n",
       "      <td>I-200-13256-001092</td>\n",
       "      <td>denied</td>\n",
       "      <td>9/13/2013</td>\n",
       "      <td>9/23/2013</td>\n",
       "      <td>CAROUSEL SCHOOL</td>\n",
       "      <td>4947000</td>\n",
       "      <td>year</td>\n",
       "      <td>49470</td>\n",
       "      <td>year</td>\n",
       "      <td>SPECIAL EDUCATION TEACHER</td>\n",
       "      <td>...</td>\n",
       "      <td>Special Education Teachers, Kindergarten and E...</td>\n",
       "      <td>California</td>\n",
       "      <td>CA</td>\n",
       "      <td>NaN</td>\n",
       "      <td>y</td>\n",
       "      <td>H-1B</td>\n",
       "      <td>NaN</td>\n",
       "      <td>49470</td>\n",
       "      <td>teacher</td>\n",
       "      <td>3</td>\n",
       "    </tr>\n",
       "    <tr>\n",
       "      <th>3</th>\n",
       "      <td>I-200-14087-353657</td>\n",
       "      <td>denied</td>\n",
       "      <td>3/28/2014</td>\n",
       "      <td>4/7/2014</td>\n",
       "      <td>HARLINGEN CONSOLIDATED INDEPENDENT SCHOOL DIST...</td>\n",
       "      <td>251052.00</td>\n",
       "      <td>month</td>\n",
       "      <td>43800</td>\n",
       "      <td>year</td>\n",
       "      <td>SCIENCE TEACHER</td>\n",
       "      <td>...</td>\n",
       "      <td>Biological Science Teachers, Postsecondary</td>\n",
       "      <td>Texas</td>\n",
       "      <td>TX</td>\n",
       "      <td>NaN</td>\n",
       "      <td>y</td>\n",
       "      <td>H-1B</td>\n",
       "      <td>NaN</td>\n",
       "      <td>43800</td>\n",
       "      <td>teacher</td>\n",
       "      <td>4</td>\n",
       "    </tr>\n",
       "    <tr>\n",
       "      <th>4</th>\n",
       "      <td>I-203-14259-128844</td>\n",
       "      <td>denied</td>\n",
       "      <td>9/16/2014</td>\n",
       "      <td>9/23/2014</td>\n",
       "      <td>SIGNAL SCIENCES CORPORATION</td>\n",
       "      <td>84573.00</td>\n",
       "      <td>bi-weekly</td>\n",
       "      <td>170000</td>\n",
       "      <td>year</td>\n",
       "      <td>SENIOR SOFTWARE ENGINEER</td>\n",
       "      <td>...</td>\n",
       "      <td>Software Developers, Systems Software</td>\n",
       "      <td>Oregon</td>\n",
       "      <td>OR</td>\n",
       "      <td>NaN</td>\n",
       "      <td>y</td>\n",
       "      <td>E-3 Australian</td>\n",
       "      <td>NaN</td>\n",
       "      <td>170000</td>\n",
       "      <td>software engineer</td>\n",
       "      <td>5</td>\n",
       "    </tr>\n",
       "  </tbody>\n",
       "</table>\n",
       "<p>5 rows × 27 columns</p>\n",
       "</div>"
      ],
      "text/plain": [
       "          CASE_NUMBER CASE_STATUS CASE_RECEIVED_DATE DECISION_DATE  \\\n",
       "0  I-200-14073-248840      denied          3/14/2014     3/21/2014   \n",
       "1       A-15061-55212      denied          3/19/2015     3/19/2015   \n",
       "2  I-200-13256-001092      denied          9/13/2013     9/23/2013   \n",
       "3  I-200-14087-353657      denied          3/28/2014      4/7/2014   \n",
       "4  I-203-14259-128844      denied          9/16/2014     9/23/2014   \n",
       "\n",
       "                                       EMPLOYER_NAME  \\\n",
       "0                ADVANCED TECHNOLOGY GROUP USA, INC.   \n",
       "1                     SAN FRANCISCO STATE UNIVERSITY   \n",
       "2                                    CAROUSEL SCHOOL   \n",
       "3  HARLINGEN CONSOLIDATED INDEPENDENT SCHOOL DIST...   \n",
       "4                        SIGNAL SCIENCES CORPORATION   \n",
       "\n",
       "  PREVAILING_WAGE_SUBMITTED PREVAILING_WAGE_SUBMITTED_UNIT  \\\n",
       "0                   6217100                           year   \n",
       "1                   5067600                           year   \n",
       "2                   4947000                           year   \n",
       "3                 251052.00                          month   \n",
       "4                  84573.00                      bi-weekly   \n",
       "\n",
       "  PAID_WAGE_SUBMITTED PAID_WAGE_SUBMITTED_UNIT  \\\n",
       "0               62171                     year   \n",
       "1               91440                     year   \n",
       "2               49470                     year   \n",
       "3               43800                     year   \n",
       "4              170000                     year   \n",
       "\n",
       "                          JOB_TITLE  ...  \\\n",
       "0                 SOFTWARE ENGINEER  ...   \n",
       "1  Assistant Professor of Marketing  ...   \n",
       "2         SPECIAL EDUCATION TEACHER  ...   \n",
       "3                   SCIENCE TEACHER  ...   \n",
       "4          SENIOR SOFTWARE ENGINEER  ...   \n",
       "\n",
       "                           PREVAILING_WAGE_SOC_TITLE  WORK_STATE  \\\n",
       "0                  Software Developers, Applications    Illinois   \n",
       "1                   Business Teachers, Postsecondary  California   \n",
       "2  Special Education Teachers, Kindergarten and E...  California   \n",
       "3         Biological Science Teachers, Postsecondary       Texas   \n",
       "4              Software Developers, Systems Software      Oregon   \n",
       "\n",
       "  WORK_STATE_ABBREVIATION WORK_POSTAL_CODE  FULL_TIME_POSITION_Y_N  \\\n",
       "0                      IL              NaN                       y   \n",
       "1                      CA          94132.0                     NaN   \n",
       "2                      CA              NaN                       y   \n",
       "3                      TX              NaN                       y   \n",
       "4                      OR              NaN                       y   \n",
       "\n",
       "       VISA_CLASS PREVAILING_WAGE_PER_YEAR PAID_WAGE_PER_YEAR  \\\n",
       "0            H-1B                      NaN              62171   \n",
       "1       greencard                      NaN              91440   \n",
       "2            H-1B                      NaN              49470   \n",
       "3            H-1B                      NaN              43800   \n",
       "4  E-3 Australian                      NaN             170000   \n",
       "\n",
       "    JOB_TITLE_SUBGROUP order  \n",
       "0    software engineer     1  \n",
       "1  assistant professor     2  \n",
       "2              teacher     3  \n",
       "3              teacher     4  \n",
       "4    software engineer     5  \n",
       "\n",
       "[5 rows x 27 columns]"
      ]
     },
     "execution_count": 3,
     "metadata": {},
     "output_type": "execute_result"
    }
   ],
   "source": [
    "salary_data.head()"
   ]
  },
  {
   "cell_type": "code",
   "execution_count": null,
   "metadata": {},
   "outputs": [],
   "source": []
  },
  {
   "cell_type": "code",
   "execution_count": 10,
   "metadata": {},
   "outputs": [
    {
     "data": {
      "text/plain": [
       "0           software engineer\n",
       "1         assistant professor\n",
       "2                     teacher\n",
       "3                     teacher\n",
       "4           software engineer\n",
       "                 ...         \n",
       "167273                teacher\n",
       "167274                teacher\n",
       "167275                teacher\n",
       "167276                teacher\n",
       "167277                teacher\n",
       "Name: JOB_TITLE_SUBGROUP, Length: 167278, dtype: object"
      ]
     },
     "execution_count": 10,
     "metadata": {},
     "output_type": "execute_result"
    }
   ],
   "source": [
    "salary_data['JOB_TITLE_SUBGROUP']"
   ]
  },
  {
   "cell_type": "code",
   "execution_count": 11,
   "metadata": {},
   "outputs": [
    {
     "name": "stdout",
     "output_type": "stream",
     "text": [
      "['software engineer' 'assistant professor' 'teacher' 'business analyst'\n",
      " 'management consultant' 'data analyst' 'attorney' 'data scientist']\n"
     ]
    }
   ],
   "source": [
    "print(salary_data['JOB_TITLE_SUBGROUP'].unique())"
   ]
  },
  {
   "cell_type": "code",
   "execution_count": 24,
   "metadata": {},
   "outputs": [
    {
     "data": {
      "text/plain": [
       "JOB_TITLE_SUBGROUP\n",
       "assistant professor      18866\n",
       "attorney                  1488\n",
       "business analyst         27811\n",
       "data analyst              3840\n",
       "data scientist            1227\n",
       "management consultant      770\n",
       "software engineer        99364\n",
       "teacher                  13912\n",
       "Name: PREVAILING_WAGE_SUBMITTED, dtype: int64"
      ]
     },
     "execution_count": 24,
     "metadata": {},
     "output_type": "execute_result"
    }
   ],
   "source": [
    "#creation of a frame for the repartition of the job title subgroup\n",
    "\n",
    "salary_data['JOB_TITLE_SUBGROUP']\n",
    "repartition_salary_by_subgroup=salary_data.groupby('JOB_TITLE_SUBGROUP')['PREVAILING_WAGE_SUBMITTED'].count()\n",
    "repartition_salary_by_subgroup\n",
    "\n",
    "# do a plot could be interseting here \n"
   ]
  },
  {
   "cell_type": "code",
   "execution_count": 50,
   "metadata": {},
   "outputs": [
    {
     "data": {
      "text/plain": [
       "JOB_TITLE_SUBGROUP\n",
       "assistant professor      506760051680.00499417.0039910449000440080.0043...\n",
       "attorney                 224536.00224536210912210912.00209414.00209414....\n",
       "business analyst         1136101111176.0070803.00644480567222558690.005...\n",
       "data analyst             630003.00150758150238.00136448.00134534.001345...\n",
       "data scientist           178360160850157602.00157602.00157435157435.001...\n",
       "management consultant    71449016833416265616265616265672.6414751414092...\n",
       "software engineer        621710084573.0013333281044581212002.0098675.00...\n",
       "teacher                  4947000251052.0050403.0048000.0040000429790.00...\n",
       "Name: PREVAILING_WAGE_SUBMITTED, dtype: object"
      ]
     },
     "execution_count": 50,
     "metadata": {},
     "output_type": "execute_result"
    }
   ],
   "source": [
    "#looking job_tile subgroup and their associeted cumulate weight \n",
    "salary_data['JOB_TITLE_SUBGROUP']\n",
    "sum_salary_by_subgroup=salary_data.groupby('JOB_TITLE_SUBGROUP')['PREVAILING_WAGE_SUBMITTED'].sum()\n",
    "sum_salary_by_subgroup\n",
    "\n",
    "# do a plot here could be interesting "
   ]
  },
  {
   "cell_type": "code",
   "execution_count": 52,
   "metadata": {},
   "outputs": [
    {
     "ename": "DataError",
     "evalue": "No numeric types to aggregate",
     "output_type": "error",
     "traceback": [
      "\u001b[0;31m---------------------------------------------------------------------------\u001b[0m",
      "\u001b[0;31mDataError\u001b[0m                                 Traceback (most recent call last)",
      "\u001b[0;32m<ipython-input-52-c765dbda2660>\u001b[0m in \u001b[0;36m<module>\u001b[0;34m\u001b[0m\n\u001b[0;32m----> 1\u001b[0;31m mal_table = pd.pivot_table(salary_data, \n\u001b[0m\u001b[1;32m      2\u001b[0m                        \u001b[0mvalues\u001b[0m\u001b[0;34m=\u001b[0m\u001b[0;34m'PREVAILING_WAGE_SUBMITTED'\u001b[0m\u001b[0;34m,\u001b[0m\u001b[0;34m\u001b[0m\u001b[0;34m\u001b[0m\u001b[0m\n\u001b[1;32m      3\u001b[0m                        \u001b[0mindex\u001b[0m\u001b[0;34m=\u001b[0m\u001b[0;34m[\u001b[0m\u001b[0;34m'JOB_TITLE_SUBGROUP'\u001b[0m\u001b[0;34m]\u001b[0m\u001b[0;34m,\u001b[0m\u001b[0;34m\u001b[0m\u001b[0;34m\u001b[0m\u001b[0m\n\u001b[1;32m      4\u001b[0m \u001b[0;34m\u001b[0m\u001b[0m\n\u001b[1;32m      5\u001b[0m                        aggfunc=np.mean)\n",
      "\u001b[0;32m/opt/anaconda3/lib/python3.8/site-packages/pandas/core/reshape/pivot.py\u001b[0m in \u001b[0;36mpivot_table\u001b[0;34m(data, values, index, columns, aggfunc, fill_value, margins, dropna, margins_name, observed)\u001b[0m\n\u001b[1;32m    110\u001b[0m \u001b[0;34m\u001b[0m\u001b[0m\n\u001b[1;32m    111\u001b[0m     \u001b[0mgrouped\u001b[0m \u001b[0;34m=\u001b[0m \u001b[0mdata\u001b[0m\u001b[0;34m.\u001b[0m\u001b[0mgroupby\u001b[0m\u001b[0;34m(\u001b[0m\u001b[0mkeys\u001b[0m\u001b[0;34m,\u001b[0m \u001b[0mobserved\u001b[0m\u001b[0;34m=\u001b[0m\u001b[0mobserved\u001b[0m\u001b[0;34m)\u001b[0m\u001b[0;34m\u001b[0m\u001b[0;34m\u001b[0m\u001b[0m\n\u001b[0;32m--> 112\u001b[0;31m     \u001b[0magged\u001b[0m \u001b[0;34m=\u001b[0m \u001b[0mgrouped\u001b[0m\u001b[0;34m.\u001b[0m\u001b[0magg\u001b[0m\u001b[0;34m(\u001b[0m\u001b[0maggfunc\u001b[0m\u001b[0;34m)\u001b[0m\u001b[0;34m\u001b[0m\u001b[0;34m\u001b[0m\u001b[0m\n\u001b[0m\u001b[1;32m    113\u001b[0m     \u001b[0;32mif\u001b[0m \u001b[0mdropna\u001b[0m \u001b[0;32mand\u001b[0m \u001b[0misinstance\u001b[0m\u001b[0;34m(\u001b[0m\u001b[0magged\u001b[0m\u001b[0;34m,\u001b[0m \u001b[0mABCDataFrame\u001b[0m\u001b[0;34m)\u001b[0m \u001b[0;32mand\u001b[0m \u001b[0mlen\u001b[0m\u001b[0;34m(\u001b[0m\u001b[0magged\u001b[0m\u001b[0;34m.\u001b[0m\u001b[0mcolumns\u001b[0m\u001b[0;34m)\u001b[0m\u001b[0;34m:\u001b[0m\u001b[0;34m\u001b[0m\u001b[0;34m\u001b[0m\u001b[0m\n\u001b[1;32m    114\u001b[0m         \u001b[0magged\u001b[0m \u001b[0;34m=\u001b[0m \u001b[0magged\u001b[0m\u001b[0;34m.\u001b[0m\u001b[0mdropna\u001b[0m\u001b[0;34m(\u001b[0m\u001b[0mhow\u001b[0m\u001b[0;34m=\u001b[0m\u001b[0;34m\"all\"\u001b[0m\u001b[0;34m)\u001b[0m\u001b[0;34m\u001b[0m\u001b[0;34m\u001b[0m\u001b[0m\n",
      "\u001b[0;32m/opt/anaconda3/lib/python3.8/site-packages/pandas/core/groupby/generic.py\u001b[0m in \u001b[0;36maggregate\u001b[0;34m(self, func, engine, engine_kwargs, *args, **kwargs)\u001b[0m\n\u001b[1;32m    949\u001b[0m         \u001b[0mfunc\u001b[0m \u001b[0;34m=\u001b[0m \u001b[0mmaybe_mangle_lambdas\u001b[0m\u001b[0;34m(\u001b[0m\u001b[0mfunc\u001b[0m\u001b[0;34m)\u001b[0m\u001b[0;34m\u001b[0m\u001b[0;34m\u001b[0m\u001b[0m\n\u001b[1;32m    950\u001b[0m \u001b[0;34m\u001b[0m\u001b[0m\n\u001b[0;32m--> 951\u001b[0;31m         \u001b[0mresult\u001b[0m\u001b[0;34m,\u001b[0m \u001b[0mhow\u001b[0m \u001b[0;34m=\u001b[0m \u001b[0mself\u001b[0m\u001b[0;34m.\u001b[0m\u001b[0m_aggregate\u001b[0m\u001b[0;34m(\u001b[0m\u001b[0mfunc\u001b[0m\u001b[0;34m,\u001b[0m \u001b[0;34m*\u001b[0m\u001b[0margs\u001b[0m\u001b[0;34m,\u001b[0m \u001b[0;34m**\u001b[0m\u001b[0mkwargs\u001b[0m\u001b[0;34m)\u001b[0m\u001b[0;34m\u001b[0m\u001b[0;34m\u001b[0m\u001b[0m\n\u001b[0m\u001b[1;32m    952\u001b[0m         \u001b[0;32mif\u001b[0m \u001b[0mhow\u001b[0m \u001b[0;32mis\u001b[0m \u001b[0;32mNone\u001b[0m\u001b[0;34m:\u001b[0m\u001b[0;34m\u001b[0m\u001b[0;34m\u001b[0m\u001b[0m\n\u001b[1;32m    953\u001b[0m             \u001b[0;32mreturn\u001b[0m \u001b[0mresult\u001b[0m\u001b[0;34m\u001b[0m\u001b[0;34m\u001b[0m\u001b[0m\n",
      "\u001b[0;32m/opt/anaconda3/lib/python3.8/site-packages/pandas/core/base.py\u001b[0m in \u001b[0;36m_aggregate\u001b[0;34m(self, arg, *args, **kwargs)\u001b[0m\n\u001b[1;32m    484\u001b[0m         \u001b[0mf\u001b[0m \u001b[0;34m=\u001b[0m \u001b[0mself\u001b[0m\u001b[0;34m.\u001b[0m\u001b[0m_get_cython_func\u001b[0m\u001b[0;34m(\u001b[0m\u001b[0marg\u001b[0m\u001b[0;34m)\u001b[0m\u001b[0;34m\u001b[0m\u001b[0;34m\u001b[0m\u001b[0m\n\u001b[1;32m    485\u001b[0m         \u001b[0;32mif\u001b[0m \u001b[0mf\u001b[0m \u001b[0;32mand\u001b[0m \u001b[0;32mnot\u001b[0m \u001b[0margs\u001b[0m \u001b[0;32mand\u001b[0m \u001b[0;32mnot\u001b[0m \u001b[0mkwargs\u001b[0m\u001b[0;34m:\u001b[0m\u001b[0;34m\u001b[0m\u001b[0;34m\u001b[0m\u001b[0m\n\u001b[0;32m--> 486\u001b[0;31m             \u001b[0;32mreturn\u001b[0m \u001b[0mgetattr\u001b[0m\u001b[0;34m(\u001b[0m\u001b[0mself\u001b[0m\u001b[0;34m,\u001b[0m \u001b[0mf\u001b[0m\u001b[0;34m)\u001b[0m\u001b[0;34m(\u001b[0m\u001b[0;34m)\u001b[0m\u001b[0;34m,\u001b[0m \u001b[0;32mNone\u001b[0m\u001b[0;34m\u001b[0m\u001b[0;34m\u001b[0m\u001b[0m\n\u001b[0m\u001b[1;32m    487\u001b[0m \u001b[0;34m\u001b[0m\u001b[0m\n\u001b[1;32m    488\u001b[0m         \u001b[0;31m# caller can react\u001b[0m\u001b[0;34m\u001b[0m\u001b[0;34m\u001b[0m\u001b[0;34m\u001b[0m\u001b[0m\n",
      "\u001b[0;32m/opt/anaconda3/lib/python3.8/site-packages/pandas/core/groupby/groupby.py\u001b[0m in \u001b[0;36mmean\u001b[0;34m(self, numeric_only)\u001b[0m\n\u001b[1;32m   1391\u001b[0m         \u001b[0mName\u001b[0m\u001b[0;34m:\u001b[0m \u001b[0mB\u001b[0m\u001b[0;34m,\u001b[0m \u001b[0mdtype\u001b[0m\u001b[0;34m:\u001b[0m \u001b[0mfloat64\u001b[0m\u001b[0;34m\u001b[0m\u001b[0;34m\u001b[0m\u001b[0m\n\u001b[1;32m   1392\u001b[0m         \"\"\"\n\u001b[0;32m-> 1393\u001b[0;31m         return self._cython_agg_general(\n\u001b[0m\u001b[1;32m   1394\u001b[0m             \u001b[0;34m\"mean\"\u001b[0m\u001b[0;34m,\u001b[0m\u001b[0;34m\u001b[0m\u001b[0;34m\u001b[0m\u001b[0m\n\u001b[1;32m   1395\u001b[0m             \u001b[0malt\u001b[0m\u001b[0;34m=\u001b[0m\u001b[0;32mlambda\u001b[0m \u001b[0mx\u001b[0m\u001b[0;34m,\u001b[0m \u001b[0maxis\u001b[0m\u001b[0;34m:\u001b[0m \u001b[0mSeries\u001b[0m\u001b[0;34m(\u001b[0m\u001b[0mx\u001b[0m\u001b[0;34m)\u001b[0m\u001b[0;34m.\u001b[0m\u001b[0mmean\u001b[0m\u001b[0;34m(\u001b[0m\u001b[0mnumeric_only\u001b[0m\u001b[0;34m=\u001b[0m\u001b[0mnumeric_only\u001b[0m\u001b[0;34m)\u001b[0m\u001b[0;34m,\u001b[0m\u001b[0;34m\u001b[0m\u001b[0;34m\u001b[0m\u001b[0m\n",
      "\u001b[0;32m/opt/anaconda3/lib/python3.8/site-packages/pandas/core/groupby/generic.py\u001b[0m in \u001b[0;36m_cython_agg_general\u001b[0;34m(self, how, alt, numeric_only, min_count)\u001b[0m\n\u001b[1;32m   1019\u001b[0m         \u001b[0mself\u001b[0m\u001b[0;34m,\u001b[0m \u001b[0mhow\u001b[0m\u001b[0;34m:\u001b[0m \u001b[0mstr\u001b[0m\u001b[0;34m,\u001b[0m \u001b[0malt\u001b[0m\u001b[0;34m=\u001b[0m\u001b[0;32mNone\u001b[0m\u001b[0;34m,\u001b[0m \u001b[0mnumeric_only\u001b[0m\u001b[0;34m:\u001b[0m \u001b[0mbool\u001b[0m \u001b[0;34m=\u001b[0m \u001b[0;32mTrue\u001b[0m\u001b[0;34m,\u001b[0m \u001b[0mmin_count\u001b[0m\u001b[0;34m:\u001b[0m \u001b[0mint\u001b[0m \u001b[0;34m=\u001b[0m \u001b[0;34m-\u001b[0m\u001b[0;36m1\u001b[0m\u001b[0;34m\u001b[0m\u001b[0;34m\u001b[0m\u001b[0m\n\u001b[1;32m   1020\u001b[0m     ) -> DataFrame:\n\u001b[0;32m-> 1021\u001b[0;31m         agg_blocks, agg_items = self._cython_agg_blocks(\n\u001b[0m\u001b[1;32m   1022\u001b[0m             \u001b[0mhow\u001b[0m\u001b[0;34m,\u001b[0m \u001b[0malt\u001b[0m\u001b[0;34m=\u001b[0m\u001b[0malt\u001b[0m\u001b[0;34m,\u001b[0m \u001b[0mnumeric_only\u001b[0m\u001b[0;34m=\u001b[0m\u001b[0mnumeric_only\u001b[0m\u001b[0;34m,\u001b[0m \u001b[0mmin_count\u001b[0m\u001b[0;34m=\u001b[0m\u001b[0mmin_count\u001b[0m\u001b[0;34m\u001b[0m\u001b[0;34m\u001b[0m\u001b[0m\n\u001b[1;32m   1023\u001b[0m         )\n",
      "\u001b[0;32m/opt/anaconda3/lib/python3.8/site-packages/pandas/core/groupby/generic.py\u001b[0m in \u001b[0;36m_cython_agg_blocks\u001b[0;34m(self, how, alt, numeric_only, min_count)\u001b[0m\n\u001b[1;32m   1128\u001b[0m \u001b[0;34m\u001b[0m\u001b[0m\n\u001b[1;32m   1129\u001b[0m         \u001b[0;32mif\u001b[0m \u001b[0;32mnot\u001b[0m \u001b[0;34m(\u001b[0m\u001b[0magg_blocks\u001b[0m \u001b[0;32mor\u001b[0m \u001b[0msplit_frames\u001b[0m\u001b[0;34m)\u001b[0m\u001b[0;34m:\u001b[0m\u001b[0;34m\u001b[0m\u001b[0;34m\u001b[0m\u001b[0m\n\u001b[0;32m-> 1130\u001b[0;31m             \u001b[0;32mraise\u001b[0m \u001b[0mDataError\u001b[0m\u001b[0;34m(\u001b[0m\u001b[0;34m\"No numeric types to aggregate\"\u001b[0m\u001b[0;34m)\u001b[0m\u001b[0;34m\u001b[0m\u001b[0;34m\u001b[0m\u001b[0m\n\u001b[0m\u001b[1;32m   1131\u001b[0m \u001b[0;34m\u001b[0m\u001b[0m\n\u001b[1;32m   1132\u001b[0m         \u001b[0;32mif\u001b[0m \u001b[0msplit_items\u001b[0m\u001b[0;34m:\u001b[0m\u001b[0;34m\u001b[0m\u001b[0;34m\u001b[0m\u001b[0m\n",
      "\u001b[0;31mDataError\u001b[0m: No numeric types to aggregate"
     ]
    }
   ],
   "source": [
    "mal_table = pd.pivot_table(salary_data, \n",
    "                       values='PREVAILING_WAGE_SUBMITTED', \n",
    "                       index=['JOB_TITLE_SUBGROUP'],\n",
    "                    \n",
    "                       aggfunc=np.mean)\n",
    "mal_table\n"
   ]
  },
  {
   "cell_type": "code",
   "execution_count": 25,
   "metadata": {},
   "outputs": [],
   "source": [
    "# weight compared to the american economy \n",
    "# do a plot here to show that it's a few macro level\n",
    "# maybe a lot at a micro level wich would implies that tey are taking Amercian jobs \n",
    "# interesting to compared with people who work in Usa (difference of salaies (expect more as an expatriate))\n",
    "# I think it's possible to understand if their taking a lot of opportunities in USA in this fields ..."
   ]
  },
  {
   "cell_type": "code",
   "execution_count": 33,
   "metadata": {},
   "outputs": [
    {
     "data": {
      "text/plain": [
       "pandas.core.series.Series"
      ]
     },
     "execution_count": 33,
     "metadata": {},
     "output_type": "execute_result"
    }
   ],
   "source": [
    "type(repartition_salary_by_subgroup)"
   ]
  },
  {
   "cell_type": "code",
   "execution_count": null,
   "metadata": {},
   "outputs": [],
   "source": []
  }
 ],
 "metadata": {
  "kernelspec": {
   "display_name": "Python 3",
   "language": "python",
   "name": "python3"
  },
  "language_info": {
   "codemirror_mode": {
    "name": "ipython",
    "version": 3
   },
   "file_extension": ".py",
   "mimetype": "text/x-python",
   "name": "python",
   "nbconvert_exporter": "python",
   "pygments_lexer": "ipython3",
   "version": "3.8.5"
  }
 },
 "nbformat": 4,
 "nbformat_minor": 4
}
